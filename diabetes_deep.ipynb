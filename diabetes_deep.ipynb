{
 "cells": [
  {
   "cell_type": "markdown",
   "metadata": {},
   "source": [
    "Notebook to build 2 layer neural network from scratch and with Keras"
   ]
  },
  {
   "cell_type": "markdown",
   "metadata": {},
   "source": [
    "# Project definition"
   ]
  },
  {
   "cell_type": "markdown",
   "metadata": {},
   "source": [
    "Predict if a patient with diabetes will be readmitted to the hospital within 30 days. "
   ]
  },
  {
   "cell_type": "code",
   "execution_count": 10,
   "metadata": {},
   "outputs": [],
   "source": [
    "import pandas as pd\n",
    "import numpy as np\n",
    "import time \n",
    "import matplotlib.pyplot as plt\n",
    "import pickle"
   ]
  },
  {
   "cell_type": "code",
   "execution_count": 11,
   "metadata": {},
   "outputs": [],
   "source": [
    "cols_input= pickle.load(open('../data/cols_input.sav','rb'))"
   ]
  },
  {
   "cell_type": "code",
   "execution_count": 12,
   "metadata": {},
   "outputs": [],
   "source": [
    "# load the data\n",
    "df_train_all = pd.read_csv('../data/df_train_all.csv')\n",
    "df_train = pd.read_csv('../data/df_train.csv')\n",
    "df_valid = pd.read_csv('../data/df_valid.csv')"
   ]
  },
  {
   "cell_type": "code",
   "execution_count": 13,
   "metadata": {},
   "outputs": [
    {
     "data": {
      "text/plain": [
       "((15766, 143), (15766, 1))"
      ]
     },
     "execution_count": 13,
     "metadata": {},
     "output_type": "execute_result"
    }
   ],
   "source": [
    "#make X matrices\n",
    "X_train_all = df_train_all[cols_input].values\n",
    "X_train = df_train[cols_input].values\n",
    "X_valid = df_valid[cols_input].values\n",
    "\n",
    "y_train = df_train[['OUTPUT_LABEL']].values\n",
    "y_valid = df_valid[['OUTPUT_LABEL']].values\n",
    "\n",
    "X_train.shape, y_train.shape"
   ]
  },
  {
   "cell_type": "code",
   "execution_count": null,
   "metadata": {},
   "outputs": [],
   "source": []
  },
  {
   "cell_type": "markdown",
   "metadata": {},
   "source": [
    "# Feature Engineering"
   ]
  },
  {
   "cell_type": "markdown",
   "metadata": {},
   "source": [
    "Most of the feature engineering was completed in our prior project (https://github.com/andrewwlong/diabetes_readmission), but we need to fill in missing values and scale our features. For simplicity, we will fill missing values with the mean and scale the data to zero mean and unit variance. "
   ]
  },
  {
   "cell_type": "code",
   "execution_count": 14,
   "metadata": {},
   "outputs": [
    {
     "data": {
      "text/plain": [
       "SimpleImputer()"
      ]
     },
     "execution_count": 14,
     "metadata": {},
     "output_type": "execute_result"
    }
   ],
   "source": [
    "from sklearn.impute import SimpleImputer\n",
    "\n",
    "imp_mean = SimpleImputer(missing_values = np.nan, strategy = 'mean')\n",
    "imp_mean.fit(X_train_all)"
   ]
  },
  {
   "cell_type": "code",
   "execution_count": 15,
   "metadata": {},
   "outputs": [],
   "source": [
    "X_train_all_tf = imp_mean.transform(X_train_all)\n",
    "X_train_tf = imp_mean.transform(X_train)\n",
    "X_valid_tf = imp_mean.transform(X_valid)\n"
   ]
  },
  {
   "cell_type": "code",
   "execution_count": 16,
   "metadata": {},
   "outputs": [
    {
     "data": {
      "text/plain": [
       "StandardScaler()"
      ]
     },
     "execution_count": 16,
     "metadata": {},
     "output_type": "execute_result"
    }
   ],
   "source": [
    "from sklearn.preprocessing import StandardScaler\n",
    "\n",
    "scaler = StandardScaler()\n",
    "scaler.fit(X_train_all_tf)"
   ]
  },
  {
   "cell_type": "code",
   "execution_count": 17,
   "metadata": {},
   "outputs": [],
   "source": [
    "X_train_all_tf = scaler.transform(X_train_all_tf)\n",
    "X_train_tf = scaler.transform(X_train_tf)\n",
    "X_valid_tf = scaler.transform(X_valid_tf)\n"
   ]
  },
  {
   "cell_type": "markdown",
   "metadata": {},
   "source": [
    "# From Scratch"
   ]
  },
  {
   "cell_type": "code",
   "execution_count": 18,
   "metadata": {},
   "outputs": [
    {
     "data": {
      "text/plain": [
       "143"
      ]
     },
     "execution_count": 18,
     "metadata": {},
     "output_type": "execute_result"
    }
   ],
   "source": [
    "len(cols_input)"
   ]
  },
  {
   "cell_type": "markdown",
   "metadata": {},
   "source": [
    "Here we would like to build a simple two-layer neural network from scratch using the structure introduced by Eric Ma:\n",
    "    - Model\n",
    "    - Loss function\n",
    "    - Optimization Routine\n",
    "    \n",
    "For notation, I will try to stick to the notation introduced by Andrew Ng in his Coursera specialization (https://www.coursera.org/specializations/deep-learning). "
   ]
  },
  {
   "cell_type": "markdown",
   "metadata": {},
   "source": [
    "# Model"
   ]
  },
  {
   "cell_type": "markdown",
   "metadata": {},
   "source": [
    "The model we will use is a two-layer neural network as shown below:\n",
    "    ![title](../img/model.png)"
   ]
  },
  {
   "cell_type": "markdown",
   "metadata": {},
   "source": [
    "Here we will have n_x input variables, n_1 hidden nodes and an output node. For this model we will use logistic regression $\\sigma(z)$ for the hidden and output nodes. "
   ]
  },
  {
   "cell_type": "markdown",
   "metadata": {},
   "source": [
    "$\\sigma(z) = \\frac{1}{1-exp(-z)}$"
   ]
  },
  {
   "cell_type": "code",
   "execution_count": 19,
   "metadata": {},
   "outputs": [],
   "source": [
    "def logistic(z):\n",
    "    # vectorized logistic function\n",
    "    return 1 / (1 + np.exp(-z))"
   ]
  },
  {
   "cell_type": "code",
   "execution_count": 20,
   "metadata": {},
   "outputs": [
    {
     "data": {
      "image/png": "[encoded data removed]",
      "text/plain": [
       "<Figure size 432x288 with 1 Axes>"
      ]
     },
     "metadata": {
      "needs_background": "light"
     },
     "output_type": "display_data"
    }
   ],
   "source": [
    "z = np.linspace(-10,10,1000)\n",
    "plt.plot(z, logistic(z),'-')\n",
    "plt.xlabel('z')\n",
    "plt.ylabel('logistic(z)')\n",
    "plt.grid(True)\n",
    "plt.show()"
   ]
  },
  {
   "cell_type": "markdown",
   "metadata": {},
   "source": [
    "Our logistic model will follow the form:"
   ]
  },
  {
   "cell_type": "markdown",
   "metadata": {},
   "source": [
    "$a = \\sigma(z)$\n",
    "where $z = W X + b$"
   ]
  },
  {
   "cell_type": "markdown",
   "metadata": {},
   "source": [
    "Here we will use vectorized notation for more efficient algorithms. "
   ]
  },
  {
   "cell_type": "markdown",
   "metadata": {},
   "source": [
    "In this notation, the first column of X will be all of features for a single sample. "
   ]
  },
  {
   "cell_type": "markdown",
   "metadata": {},
   "source": [
    "Here, let's say we have `m` samples. "
   ]
  },
  {
   "cell_type": "markdown",
   "metadata": {},
   "source": [
    "The parameters we will use for this model with dimensions in curly braces are:"
   ]
  },
  {
   "cell_type": "markdown",
   "metadata": {},
   "source": [
    "$W^{[1]} \\quad \\{n_1, n_x \\}$"
   ]
  },
  {
   "cell_type": "markdown",
   "metadata": {},
   "source": [
    "$b^{[1]} \\quad \\{n_1, 1 \\}$"
   ]
  },
  {
   "cell_type": "markdown",
   "metadata": {},
   "source": [
    "$W^{[2]} \\quad \\{1, n_1 \\}$"
   ]
  },
  {
   "cell_type": "markdown",
   "metadata": {},
   "source": [
    "$b^{[2]} \\quad \\{1, 1 \\}$"
   ]
  },
  {
   "cell_type": "markdown",
   "metadata": {},
   "source": [
    "Let's initialize our parameters in a dictionary with random inputs."
   ]
  },
  {
   "cell_type": "code",
   "execution_count": 21,
   "metadata": {},
   "outputs": [
    {
     "name": "stdout",
     "output_type": "stream",
     "text": [
      "143\n"
     ]
    }
   ],
   "source": [
    "nx = len(cols_input)\n",
    "print(nx)"
   ]
  },
  {
   "cell_type": "markdown",
   "metadata": {},
   "source": [
    "Let's choose 64 hidden nodes:"
   ]
  },
  {
   "cell_type": "code",
   "execution_count": 22,
   "metadata": {},
   "outputs": [],
   "source": [
    "n1 = 64"
   ]
  },
  {
   "cell_type": "code",
   "execution_count": 23,
   "metadata": {},
   "outputs": [],
   "source": [
    "params = dict()\n",
    "params['W1'] = np.random.randn(n1,nx)\n",
    "params['b1'] = np.random.randn(n1,1)\n",
    "params['W2'] = np.random.randn(1,n1)\n",
    "params['b2'] = np.random.randn(1,1)"
   ]
  },
  {
   "cell_type": "markdown",
   "metadata": {},
   "source": [
    "The equations (with dimensions in curly braces) we need to calculate our $\\hat{y}$ (estimate of y) are:"
   ]
  },
  {
   "cell_type": "markdown",
   "metadata": {},
   "source": [
    "$A^{[0]} = X \\quad \\{n_x,m\\}$"
   ]
  },
  {
   "cell_type": "markdown",
   "metadata": {},
   "source": [
    "$Z^{[1]} = W^{[1]} A^{[0]} + b^{[1]} \\quad \\{n_1, m\\}$"
   ]
  },
  {
   "cell_type": "markdown",
   "metadata": {},
   "source": [
    "$A^{[1]} = \\sigma(Z^{[1]}) \\quad \\{n_1, m\\}$"
   ]
  },
  {
   "cell_type": "markdown",
   "metadata": {},
   "source": [
    "$Z^{[2]} = W^{[2]} A^{[1]} + b^{[2]} \\quad \\{ 1,m \\}$"
   ]
  },
  {
   "cell_type": "markdown",
   "metadata": {},
   "source": [
    "$A^{[2]} = \\sigma(Z^{[2]}) \\quad \\{ 1,m \\}$"
   ]
  },
  {
   "cell_type": "markdown",
   "metadata": {},
   "source": [
    "$\\hat{Y} = A^{[2]} \\quad \\{ 1,m \\}$"
   ]
  },
  {
   "cell_type": "markdown",
   "metadata": {},
   "source": [
    "Let's define a feedforward function that allows us to calculate all the As. Here will assume that X has features as columns and rows as samples. Andrew Ng's notation transposes this which we can do in this feedforward function. "
   ]
  },
  {
   "cell_type": "code",
   "execution_count": 24,
   "metadata": {},
   "outputs": [],
   "source": [
    "def feedforward_2layer(params, act, X):\n",
    "    # feedforward equations for 2 layer neural network using activation function act for hidden layer\n",
    "    \n",
    "    \n",
    "    \n",
    "    #input layer\n",
    "    A0 = X.T # transpose for consistency with Andrew Ng\n",
    "    # hidden layer\n",
    "    Z1 = np.dot(params['W1'], A0) + params['b1']\n",
    "    A1 = act(Z1)\n",
    "    # output layer\n",
    "    Z2 = np.dot(params['W2'], A1) + params['b2']\n",
    "    A2 = logistic(Z2)\n",
    "\n",
    "    # make a dictionary of values\n",
    "    ff = dict()\n",
    "    ff['A0'] = A0 \n",
    "    ff['A1'] = A1\n",
    "    ff['A2'] = A2\n",
    "    ff['Z1'] = Z1\n",
    "    ff['Z2'] = Z2\n",
    "    return ff"
   ]
  },
  {
   "cell_type": "code",
   "execution_count": 25,
   "metadata": {},
   "outputs": [
    {
     "data": {
      "text/plain": [
       "(15766, 143)"
      ]
     },
     "execution_count": 25,
     "metadata": {},
     "output_type": "execute_result"
    }
   ],
   "source": [
    "X_train_tf.shape"
   ]
  },
  {
   "cell_type": "code",
   "execution_count": 26,
   "metadata": {},
   "outputs": [],
   "source": [
    "ff = feedforward_2layer(params, logistic, X_train_tf)"
   ]
  },
  {
   "cell_type": "code",
   "execution_count": 27,
   "metadata": {},
   "outputs": [
    {
     "data": {
      "text/plain": [
       "(143, 15766)"
      ]
     },
     "execution_count": 27,
     "metadata": {},
     "output_type": "execute_result"
    }
   ],
   "source": [
    "ff['A0'].shape"
   ]
  },
  {
   "cell_type": "code",
   "execution_count": 28,
   "metadata": {},
   "outputs": [
    {
     "data": {
      "text/plain": [
       "(64, 15766)"
      ]
     },
     "execution_count": 28,
     "metadata": {},
     "output_type": "execute_result"
    }
   ],
   "source": [
    "ff['A1'].shape"
   ]
  },
  {
   "cell_type": "code",
   "execution_count": 29,
   "metadata": {},
   "outputs": [
    {
     "data": {
      "text/plain": [
       "(64, 15766)"
      ]
     },
     "execution_count": 29,
     "metadata": {},
     "output_type": "execute_result"
    }
   ],
   "source": [
    "ff['Z1'].shape"
   ]
  },
  {
   "cell_type": "code",
   "execution_count": 30,
   "metadata": {},
   "outputs": [
    {
     "data": {
      "text/plain": [
       "(1, 15766)"
      ]
     },
     "execution_count": 30,
     "metadata": {},
     "output_type": "execute_result"
    }
   ],
   "source": [
    "ff['A2'].shape"
   ]
  },
  {
   "cell_type": "code",
   "execution_count": 31,
   "metadata": {},
   "outputs": [
    {
     "data": {
      "text/plain": [
       "(1, 15766)"
      ]
     },
     "execution_count": 31,
     "metadata": {},
     "output_type": "execute_result"
    }
   ],
   "source": [
    "ff['Z2'].shape"
   ]
  },
  {
   "cell_type": "markdown",
   "metadata": {},
   "source": [
    "# Loss Function"
   ]
  },
  {
   "cell_type": "markdown",
   "metadata": {},
   "source": [
    "Now we would like to find the 'best' weights W1, b1, W2, and b2. In order to define 'best', we create a cost function to define how good the weights are. The loss function we use for binary classification problems is:"
   ]
  },
  {
   "cell_type": "markdown",
   "metadata": {},
   "source": [
    "$J = - \\frac{1}{m} (\\sum_{i=1}^{m} y_i \\log(\\hat{y}_i) + (1 - y_i) \\log(1 - \\hat{y}_i))$"
   ]
  },
  {
   "cell_type": "markdown",
   "metadata": {},
   "source": [
    "Super obvious, right? "
   ]
  },
  {
   "cell_type": "markdown",
   "metadata": {},
   "source": [
    "I prefer to see where this comes from, so let's take a short detour. If we think about the output of our model as a probability of y given data x, we can write the following for a single sample:"
   ]
  },
  {
   "cell_type": "markdown",
   "metadata": {},
   "source": [
    "For $y_i = 1, P(y_i|x_i) = \\hat{y}_i$"
   ]
  },
  {
   "cell_type": "markdown",
   "metadata": {},
   "source": [
    "For $y_i = 0, P(y_i|x_i) = 1 - \\hat{y}_i$"
   ]
  },
  {
   "cell_type": "markdown",
   "metadata": {},
   "source": [
    "This can be written in a slightly more complicated manner as\n",
    "\n",
    "$ P(y_i|x_i) = (\\hat{y}_i)^{y_i} (1-\\hat{y}_i)^{1-y_i}$"
   ]
  },
  {
   "cell_type": "markdown",
   "metadata": {},
   "source": [
    "Assuming independent samples, the probability of seeing all of our data is the product:\n",
    "    \n",
    "$Likelihood = P(y|x) = \\Pi_{i=1}^{m} (\\hat{y}_i)^{y_i} (1-\\hat{y}_i)^{1-y_i}$"
   ]
  },
  {
   "cell_type": "markdown",
   "metadata": {},
   "source": [
    "Now all we have to do is find the parameters that maximize this probability (an equation also called the likelihood function)! That sounds quite complicated given this has the product term. Fortunately, maximizes the log of this likelihood function also maximizes this likelihood function. When we take the log, we convert the product into a sum."
   ]
  },
  {
   "cell_type": "markdown",
   "metadata": {},
   "source": [
    "Before we do this, let's remind ourselves of a property of logs:\n",
    "\n",
    "$\\log(a^b c^d) = b \\log(a) + d \\log(c)$"
   ]
  },
  {
   "cell_type": "markdown",
   "metadata": {},
   "source": [
    "$log(Likelihood )= \\sum_{i=1}^{m} y_i \\log(\\hat{y}_i) +  (1-y_i) \\log(1-\\hat{y}_i)$"
   ]
  },
  {
   "cell_type": "markdown",
   "metadata": {},
   "source": [
    "To turn this into our Cost function above, all we need to do is multiply by a negative sign (switching the maximization problem into a minimization problem). To be consistent with Andrew Ng, we will also divide by $m$. "
   ]
  },
  {
   "cell_type": "code",
   "execution_count": 32,
   "metadata": {},
   "outputs": [],
   "source": [
    "def logistic_loss(Y_hat, Y):\n",
    "    # calculate the logistic loss\n",
    "    return -np.sum(Y*np.log(Y_hat)+(1-Y)*np.log(1 - Y_hat))/Y.shape[1]"
   ]
  },
  {
   "cell_type": "code",
   "execution_count": 33,
   "metadata": {},
   "outputs": [
    {
     "data": {
      "text/plain": [
       "2.9501469190173273"
      ]
     },
     "execution_count": 33,
     "metadata": {},
     "output_type": "execute_result"
    }
   ],
   "source": [
    "logistic_loss(ff['A2'], y_train.T) # note we have to transpose Y for consistent dimensions"
   ]
  },
  {
   "cell_type": "markdown",
   "metadata": {},
   "source": [
    "For our optimization routines, we will need the derivative of $J$ with respect to each parameter. "
   ]
  },
  {
   "cell_type": "markdown",
   "metadata": {},
   "source": [
    "Eric did this with the python package jax.grad\n",
    "\n",
    "`dlogistic_loss = grad(logistic_loss)`\n",
    "\n",
    "but I would like to write this out explicitly. "
   ]
  },
  {
   "cell_type": "markdown",
   "metadata": {},
   "source": [
    "To do this derivative, we actually work from right to left in our neural network. A process known as `back propagation`. We can do this with chain rule. "
   ]
  },
  {
   "cell_type": "markdown",
   "metadata": {},
   "source": [
    "$dZ^{[2]} := \\frac{d J}{d Z^{[2]}} = \\frac{dJ}{dA^{[2]}} \\frac{dA^{[2]}}{dZ^{[2]}}$"
   ]
  },
  {
   "cell_type": "markdown",
   "metadata": {},
   "source": [
    "Some useful properties of derivatives are:"
   ]
  },
  {
   "cell_type": "markdown",
   "metadata": {},
   "source": [
    "$\\frac{d log(x)}{dx} = \\frac{1}{x}$"
   ]
  },
  {
   "cell_type": "markdown",
   "metadata": {},
   "source": [
    "$\\frac{d \\exp(x)}{dx} = \\exp(x)$"
   ]
  },
  {
   "cell_type": "markdown",
   "metadata": {},
   "source": [
    "$\\frac{d (1/x)}{dx} = \\frac{-1}{x^2}$"
   ]
  },
  {
   "cell_type": "markdown",
   "metadata": {},
   "source": [
    "Linearity of the derivative:"
   ]
  },
  {
   "cell_type": "markdown",
   "metadata": {},
   "source": [
    "$\\frac{d (\\sum x_i(w))}{w} = \\sum \\frac{d x_i(w)}{d w}$"
   ]
  },
  {
   "cell_type": "markdown",
   "metadata": {},
   "source": [
    "Since our cost sums over each sample, for now let's just drop the notation for each sample from the calculations (and the 1/m multiplier): "
   ]
  },
  {
   "cell_type": "markdown",
   "metadata": {},
   "source": [
    "$\\frac{dJ}{dA^{[2]}} = -\\frac{y}{A^{[2]}} +  \\frac{1-y}{1-A^{[2]}}$"
   ]
  },
  {
   "cell_type": "markdown",
   "metadata": {},
   "source": [
    "$\\frac{dA^{[2]}}{dZ^{[2]}} = \\frac{-\\exp(-Z^{[2]})}{(1-\\exp(-Z^{[2]}))^2} = (\\frac{1}{1-\\exp(-Z^{[2]})})(1 - \\frac{1}{1-\\exp(-Z^{[2]})}) = \\sigma(Z^{[2]}) (1 - \\sigma(Z^{[2]}) = A^{[2]} (1 - A^{[2]})$"
   ]
  },
  {
   "cell_type": "markdown",
   "metadata": {},
   "source": [
    "$dZ^{[2]} := \\frac{d J}{d Z^{[2]}} = (-\\frac{y_i}{A^{[2]}} +  \\frac{1-y_i}{1-A^{[2]}}) (A^{[2]} (1 - A^{[2]}))$"
   ]
  },
  {
   "cell_type": "markdown",
   "metadata": {},
   "source": [
    "$ = -(1 - A^{[2]}) y +  A^{[2]}(1-y)$"
   ]
  },
  {
   "cell_type": "markdown",
   "metadata": {},
   "source": [
    "$ = A^{[2]}-y$"
   ]
  },
  {
   "cell_type": "markdown",
   "metadata": {},
   "source": [
    "To get the derivative with respect to each of the parameters we have (using correct matrix math)"
   ]
  },
  {
   "cell_type": "markdown",
   "metadata": {},
   "source": [
    "$db^{[2]} := \\frac{d J}{d b^{[2]}} = \\frac{dJ}{dZ^{[2]}} \\frac{dZ^{[2]}}{db^{[2]}} = \\frac{1}{m}\\sum_{i = 1}^{m} d Z^{[2]}_i$"
   ]
  },
  {
   "cell_type": "markdown",
   "metadata": {},
   "source": [
    "$dW^{[2]} := \\frac{d J}{d W^{[2]}} = \\frac{dJ}{dZ^{[2]}} \\frac{dZ^{[2]}}{dW^{[2]}} = \\frac{1}{m} dZ^{[2]}A^{[1]} .^T$"
   ]
  },
  {
   "cell_type": "markdown",
   "metadata": {},
   "source": [
    "To move beyond the final layer, we can actually write a generic activation function $g^{[l]}(z)$ instead of $\\sigma(z)$"
   ]
  },
  {
   "cell_type": "markdown",
   "metadata": {},
   "source": [
    "$dZ^{[1]} := \\frac{dJ}{dZ^{[1]}} = \\frac{dJ}{dZ^{[2]}} \\frac{dZ^{[2]}}{dZ^{[1]}} = W^{[2]}.^T dZ^{[2]} \\frac{dA^{[1]}}{dZ^{[1]}} =  W^{[2]}.^T dZ^{[2]} * g'^{[1]} (Z^{[1]})$"
   ]
  },
  {
   "cell_type": "markdown",
   "metadata": {},
   "source": [
    "where $g'$ denotes the derivative of the activation function."
   ]
  },
  {
   "cell_type": "markdown",
   "metadata": {},
   "source": [
    "$dW^{[1]} := \\frac{1}{m}\\frac{dJ}{dW^{[1]}} = \\frac{1}{m}\\frac{dJ}{dZ^{[2]}} \\frac{dZ^{[2]}}{dW^{[1]}}= \\frac{1}{m}dZ^{[1]} A^{[0]}.^T$"
   ]
  },
  {
   "cell_type": "markdown",
   "metadata": {},
   "source": [
    "$db^{[1]} := \\frac{d J}{d b^{[1]}} = \\frac{dJ}{dZ^{[2]}} \\frac{dZ^{[2]}}{db^{[1]}} = \\frac{1}{m}\\sum_{i = 1}^{m} d Z^{[1]}_i$"
   ]
  },
  {
   "cell_type": "markdown",
   "metadata": {},
   "source": [
    "Using symmetry, we can also write the equations for any hidden layer"
   ]
  },
  {
   "cell_type": "code",
   "execution_count": 34,
   "metadata": {},
   "outputs": [
    {
     "data": {
      "text/plain": [
       "15766"
      ]
     },
     "execution_count": 34,
     "metadata": {},
     "output_type": "execute_result"
    }
   ],
   "source": [
    "y_train.T.shape[1]"
   ]
  },
  {
   "cell_type": "code",
   "execution_count": 35,
   "metadata": {},
   "outputs": [],
   "source": [
    "def backprop_layer2(params, act_prime, ff,Y):\n",
    "    # backpropagation using derivative of activation function act_prime with feedforward cache ff\n",
    "    \n",
    "    m = Y.shape[1]\n",
    "    dZ2 = ff['A2'] - Y\n",
    "    db2 = np.sum(dZ2, axis = 1, keepdims = True)/m\n",
    "    dW2 = np.dot(dZ2, ff['A1'].T)/m\n",
    "    \n",
    "    dZ1 = np.dot(params['W2'].T, dZ2) * act_prime(ff['Z1']) # elementwise multiplication\n",
    "    db1 = np.sum(dZ1, axis = 1, keepdims = True)/m\n",
    "    dW1 = np.dot(dZ1, ff['A0'].T)/m\n",
    "    \n",
    "    backprop = dict()\n",
    "    backprop['b2'] = db2\n",
    "    backprop['W2'] = dW2\n",
    "    backprop['b1'] = db1\n",
    "    backprop['W1'] = dW1\n",
    "    return backprop\n",
    "    "
   ]
  },
  {
   "cell_type": "code",
   "execution_count": 36,
   "metadata": {},
   "outputs": [],
   "source": [
    "def d_logistic(z):\n",
    "    return logistic(z) * (1-logistic(z))"
   ]
  },
  {
   "cell_type": "code",
   "execution_count": 37,
   "metadata": {},
   "outputs": [],
   "source": [
    "d_params = backprop_layer2(params, d_logistic, ff, y_train.T)"
   ]
  },
  {
   "cell_type": "code",
   "execution_count": 38,
   "metadata": {},
   "outputs": [
    {
     "data": {
      "text/plain": [
       "((64, 1), (64, 1))"
      ]
     },
     "execution_count": 38,
     "metadata": {},
     "output_type": "execute_result"
    }
   ],
   "source": [
    "params['b1'].shape, d_params['b1'].shape"
   ]
  },
  {
   "cell_type": "code",
   "execution_count": 39,
   "metadata": {},
   "outputs": [
    {
     "data": {
      "text/plain": [
       "((64, 143), (64, 143))"
      ]
     },
     "execution_count": 39,
     "metadata": {},
     "output_type": "execute_result"
    }
   ],
   "source": [
    "params['W1'].shape, d_params['W1'].shape"
   ]
  },
  {
   "cell_type": "code",
   "execution_count": 40,
   "metadata": {},
   "outputs": [
    {
     "data": {
      "text/plain": [
       "((1, 1), (1, 1))"
      ]
     },
     "execution_count": 40,
     "metadata": {},
     "output_type": "execute_result"
    }
   ],
   "source": [
    "params['b2'].shape, d_params['b2'].shape"
   ]
  },
  {
   "cell_type": "code",
   "execution_count": 41,
   "metadata": {},
   "outputs": [
    {
     "data": {
      "text/plain": [
       "((1, 64), (1, 64))"
      ]
     },
     "execution_count": 41,
     "metadata": {},
     "output_type": "execute_result"
    }
   ],
   "source": [
    "params['W2'].shape, d_params['W2'].shape"
   ]
  },
  {
   "cell_type": "markdown",
   "metadata": {},
   "source": [
    "# Optimization Routine"
   ]
  },
  {
   "cell_type": "markdown",
   "metadata": {},
   "source": [
    "Here we will use gradient descent, which basically says update the parameters by some learning rate $\\alpha$ by going the opposite direction of the gradient. "
   ]
  },
  {
   "cell_type": "code",
   "execution_count": 42,
   "metadata": {},
   "outputs": [],
   "source": [
    "from tqdm.notebook import tqdm"
   ]
  },
  {
   "cell_type": "code",
   "execution_count": 43,
   "metadata": {},
   "outputs": [
    {
     "data": {
      "application/vnd.jupyter.widget-view+json": {
       "model_id": "7462c5d483e345648a9030868e0dac9d",
       "version_major": 2,
       "version_minor": 0
      },
      "text/plain": [
       "  0%|          | 0/2000 [00:00<?, ?it/s]"
      ]
     },
     "metadata": {},
     "output_type": "display_data"
    },
    {
     "name": "stdout",
     "output_type": "stream",
     "text": [
      "0 : 3.083894034316609\n",
      "100 : 1.0898369776921397\n",
      "200 : 0.9011537639380764\n",
      "300 : 0.8133817348789404\n",
      "400 : 0.7642935469065658\n",
      "500 : 0.7333116458180058\n",
      "600 : 0.7124747005974156\n",
      "700 : 0.6979916259157195\n",
      "800 : 0.687717013989354\n",
      "900 : 0.6803090289713646\n",
      "1000 : 0.6748874523984741\n",
      "1100 : 0.6708611340901766\n",
      "1200 : 0.6678269287358538\n",
      "1300 : 0.6655062281038342\n",
      "1400 : 0.6637040088889449\n",
      "1500 : 0.6622820686365622\n",
      "1600 : 0.6611413472418499\n",
      "1700 : 0.6602101092089413\n",
      "1800 : 0.6594359370634476\n",
      "1900 : 0.6587802304285174\n"
     ]
    }
   ],
   "source": [
    "alpha = 0.1\n",
    "params = dict()\n",
    "params['W1'] = np.random.randn(n1,nx)\n",
    "params['b1'] = np.random.randn(n1,1)\n",
    "params['W2'] = np.random.randn(1,n1)\n",
    "params['b2'] = np.random.randn(1,1)\n",
    "\n",
    "losses = []\n",
    "\n",
    "ff = feedforward_2layer(params, logistic, X_train_tf)\n",
    "losses.append(logistic_loss(ff['A2'], y_train.T)) # note we have to transpose Y for consistent dimensions    \n",
    "for ii in tqdm(range(2000)):\n",
    "    d_params = backprop_layer2(params, d_logistic, ff, y_train.T)\n",
    "    for name, value in d_params.items():\n",
    "        params[name] = params[name] - alpha*value\n",
    "    ff = feedforward_2layer(params, logistic, X_train_tf)\n",
    "    loss = logistic_loss(ff['A2'], y_train.T)\n",
    "    if (ii % 100) == 0:\n",
    "        print(ii,':',loss)\n",
    "    losses.append(loss) # note we have to transpose Y for consistent dimensions"
   ]
  },
  {
   "cell_type": "code",
   "execution_count": 44,
   "metadata": {},
   "outputs": [
    {
     "data": {
      "image/png": "[encoded data removed]",
      "text/plain": [
       "<Figure size 432x288 with 1 Axes>"
      ]
     },
     "metadata": {
      "needs_background": "light"
     },
     "output_type": "display_data"
    }
   ],
   "source": [
    "plt.plot(losses,'-')\n",
    "plt.xlabel('iteration')\n",
    "plt.ylabel('Log Loss')\n",
    "plt.show()"
   ]
  },
  {
   "cell_type": "code",
   "execution_count": 45,
   "metadata": {},
   "outputs": [],
   "source": [
    "from sklearn.metrics import roc_auc_score, accuracy_score, precision_score, recall_score\n",
    "def calc_prevalence(y_actual):\n",
    "    return (sum(y_actual)/len(y_actual))\n",
    "def calc_specificity(y_actual, y_pred, thresh):\n",
    "    # calculates specificity\n",
    "    return sum((y_pred < thresh) & (y_actual == 0)) /sum(y_actual ==0)\n",
    "def print_report(y_actual, y_pred, thresh):\n",
    "    \n",
    "    auc = roc_auc_score(y_actual, y_pred)\n",
    "    accuracy = accuracy_score(y_actual, (y_pred > thresh))\n",
    "    recall = recall_score(y_actual, (y_pred > thresh))\n",
    "    precision = precision_score(y_actual, (y_pred > thresh))\n",
    "    specificity = calc_specificity(y_actual, y_pred, thresh)\n",
    "    print('AUC:%.3f'%auc)\n",
    "    print('accuracy:%.3f'%accuracy)\n",
    "    print('recall:%.3f'%recall)\n",
    "    print('precision:%.3f'%precision)\n",
    "    print('specificity:%.3f'%specificity)\n",
    "    print('prevalence:%.3f'%calc_prevalence(y_actual))\n",
    "    print(' ')\n",
    "    return auc, accuracy, recall, precision, specificity"
   ]
  },
  {
   "cell_type": "code",
   "execution_count": 46,
   "metadata": {},
   "outputs": [
    {
     "name": "stderr",
     "output_type": "stream",
     "text": [
      "/tmp/ipykernel_8112/347514560.py:3: RuntimeWarning: overflow encountered in exp\n",
      "  return 1 / (1 + np.exp(-z))\n"
     ]
    }
   ],
   "source": [
    "ff_train = feedforward_2layer(params, logistic, X_train_tf)\n",
    "y_train_preds = ff_train['A2'].T\n",
    "ff_valid = feedforward_2layer(params, logistic, X_valid_tf)\n",
    "y_valid_preds = ff_valid['A2'].T"
   ]
  },
  {
   "cell_type": "code",
   "execution_count": 47,
   "metadata": {},
   "outputs": [
    {
     "data": {
      "image/png": "[encoded data removed]",
      "text/plain": [
       "<Figure size 432x288 with 1 Axes>"
      ]
     },
     "metadata": {
      "needs_background": "light"
     },
     "output_type": "display_data"
    }
   ],
   "source": [
    "from sklearn.metrics import roc_curve \n",
    "\n",
    "fpr_train, tpr_train, thresholds_train = roc_curve(y_train, y_train_preds)\n",
    "auc_train = roc_auc_score(y_train, y_train_preds)\n",
    "\n",
    "fpr_valid, tpr_valid, thresholds_valid = roc_curve(y_valid, y_valid_preds)\n",
    "auc_valid = roc_auc_score(y_valid, y_valid_preds)\n",
    "\n",
    "\n",
    "plt.plot(fpr_train, tpr_train, 'r-',label ='Train AUC:%.3f'%auc_train)\n",
    "plt.plot(fpr_valid, tpr_valid, 'b-',label ='Valid AUC:%.3f'%auc_valid)\n",
    "plt.plot([0,1],[0,1],'k--')\n",
    "plt.xlabel('False Positive Rate')\n",
    "plt.ylabel('True Positive Rate')\n",
    "plt.legend()\n",
    "plt.show()"
   ]
  },
  {
   "cell_type": "markdown",
   "metadata": {},
   "source": [
    "Well that was quite slow to train. Let's use Keras (a deep learning framework) that has additional optimization routines like Adam which are faster. Keras is also great for building the neural network in just a few lines of code. "
   ]
  },
  {
   "cell_type": "markdown",
   "metadata": {},
   "source": [
    "# Keras"
   ]
  },
  {
   "cell_type": "code",
   "execution_count": 48,
   "metadata": {},
   "outputs": [],
   "source": [
    "from keras.models import Sequential\n",
    "from keras.layers import Dense, Flatten, Dropout\n",
    "from tensorflow.keras.utils import to_categorical"
   ]
  },
  {
   "cell_type": "code",
   "execution_count": null,
   "metadata": {},
   "outputs": [],
   "source": []
  },
  {
   "cell_type": "code",
   "execution_count": 49,
   "metadata": {},
   "outputs": [
    {
     "data": {
      "text/plain": [
       "(15766, 2)"
      ]
     },
     "execution_count": 49,
     "metadata": {},
     "output_type": "execute_result"
    }
   ],
   "source": [
    "# make y labels that work nicely with Keras\n",
    "y_train_keras = to_categorical(y_train,2)\n",
    "y_valid_keras = to_categorical(y_valid,2)\n",
    "\n",
    "y_train_keras.shape"
   ]
  },
  {
   "cell_type": "code",
   "execution_count": 50,
   "metadata": {},
   "outputs": [
    {
     "name": "stderr",
     "output_type": "stream",
     "text": [
      "2021-10-23 17:23:28.957265: W tensorflow/stream_executor/platform/default/dso_loader.cc:64] Could not load dynamic library 'libcuda.so.1'; dlerror: libcuda.so.1: cannot open shared object file: No such file or directory\n",
      "2021-10-23 17:23:28.957307: W tensorflow/stream_executor/cuda/cuda_driver.cc:269] failed call to cuInit: UNKNOWN ERROR (303)\n",
      "2021-10-23 17:23:28.957344: I tensorflow/stream_executor/cuda/cuda_diagnostics.cc:156] kernel driver does not appear to be running on this host (thuytrangnugget-ThinkPad-T430): /proc/driver/nvidia/version does not exist\n"
     ]
    }
   ],
   "source": [
    "# build the same model\n",
    "# lets test out relu (a different activation function) and add drop out (for regularization)\n",
    "model = Sequential()\n",
    "model.add(Dense(64, activation = 'relu', \n",
    "                input_dim = X_train_tf.shape[1]))\n",
    "model.add(Dropout(rate = 0.25))\n",
    "model.add(Dense(2, activation = 'softmax'))"
   ]
  },
  {
   "cell_type": "code",
   "execution_count": 51,
   "metadata": {},
   "outputs": [],
   "source": [
    "# compile the model - use categorical crossentropy, and the adam optimizer\n",
    "model.compile(\n",
    "                loss = 'categorical_crossentropy',\n",
    "                optimizer = 'adam',\n",
    "                metrics = ['accuracy'])"
   ]
  },
  {
   "cell_type": "code",
   "execution_count": 52,
   "metadata": {},
   "outputs": [
    {
     "name": "stderr",
     "output_type": "stream",
     "text": [
      "2021-10-23 17:23:29.148053: I tensorflow/compiler/mlir/mlir_graph_optimization_pass.cc:185] None of the MLIR Optimization Passes are enabled (registered 2)\n"
     ]
    },
    {
     "name": "stdout",
     "output_type": "stream",
     "text": [
      "Epoch 1/5\n",
      "493/493 [==============================] - 1s 2ms/step - loss: 0.7260 - accuracy: 0.5743\n",
      "Epoch 2/5\n",
      "493/493 [==============================] - 1s 1ms/step - loss: 0.6656 - accuracy: 0.6074\n",
      "Epoch 3/5\n",
      "493/493 [==============================] - 1s 1ms/step - loss: 0.6521 - accuracy: 0.6194\n",
      "Epoch 4/5\n",
      "493/493 [==============================] - 1s 1ms/step - loss: 0.6463 - accuracy: 0.6274\n",
      "Epoch 5/5\n",
      "493/493 [==============================] - 1s 1ms/step - loss: 0.6425 - accuracy: 0.6329\n"
     ]
    },
    {
     "data": {
      "text/plain": [
       "<keras.callbacks.History at 0x7f7b68d324c0>"
      ]
     },
     "execution_count": 52,
     "metadata": {},
     "output_type": "execute_result"
    }
   ],
   "source": [
    "model.fit(X_train_tf, y_train_keras, \n",
    "          batch_size = 32, epochs= 5, \n",
    "          verbose = 1)"
   ]
  },
  {
   "cell_type": "code",
   "execution_count": 55,
   "metadata": {},
   "outputs": [
    {
     "name": "stdout",
     "output_type": "stream",
     "text": [
      "493/493 [==============================] - 1s 880us/step\n",
      "466/466 [==============================] - 0s 945us/step\n"
     ]
    }
   ],
   "source": [
    "y_train_preds_keras = model.predict(X_train_tf,verbose = 1)[:,1]\n",
    "y_valid_preds_keras = model.predict(X_valid_tf,verbose = 1)[:,1]"
   ]
  },
  {
   "cell_type": "code",
   "execution_count": 56,
   "metadata": {},
   "outputs": [
    {
     "name": "stdout",
     "output_type": "stream",
     "text": [
      "Train\n",
      "AUC:0.705\n",
      "accuracy:0.647\n",
      "recall:0.599\n",
      "precision:0.662\n",
      "specificity:0.695\n",
      "prevalence:0.500\n",
      " \n",
      "Valid\n",
      "AUC:0.661\n",
      "accuracy:0.649\n",
      "recall:0.580\n",
      "precision:0.178\n",
      "specificity:0.658\n",
      "prevalence:0.113\n",
      " \n"
     ]
    }
   ],
   "source": [
    "print('Train');\n",
    "print_report(y_train[:,0], y_train_preds_keras, thresh=0.5)\n",
    "print('Valid');\n",
    "print_report(y_valid[:,0], y_valid_preds_keras, thresh=0.5);"
   ]
  },
  {
   "cell_type": "code",
   "execution_count": 57,
   "metadata": {},
   "outputs": [
    {
     "data": {
      "image/png": "[encoded data removed]",
      "text/plain": [
       "<Figure size 432x288 with 1 Axes>"
      ]
     },
     "metadata": {
      "needs_background": "light"
     },
     "output_type": "display_data"
    }
   ],
   "source": [
    "from sklearn.metrics import roc_curve \n",
    "\n",
    "fpr_train, tpr_train, thresholds_train = roc_curve(y_train, y_train_preds_keras)\n",
    "auc_train = roc_auc_score(y_train, y_train_preds_keras)\n",
    "\n",
    "fpr_valid, tpr_valid, thresholds_valid = roc_curve(y_valid, y_valid_preds_keras)\n",
    "auc_valid = roc_auc_score(y_valid, y_valid_preds_keras)\n",
    "\n",
    "\n",
    "plt.plot(fpr_train, tpr_train, 'r-',label ='Train AUC:%.3f'%auc_train)\n",
    "plt.plot(fpr_valid, tpr_valid, 'b-',label ='Valid AUC:%.3f'%auc_valid)\n",
    "plt.plot([0,1],[0,1],'k--')\n",
    "plt.xlabel('False Positive Rate')\n",
    "plt.ylabel('True Positive Rate')\n",
    "plt.legend()\n",
    "plt.show()"
   ]
  },
  {
   "cell_type": "code",
   "execution_count": null,
   "metadata": {},
   "outputs": [],
   "source": []
  }
 ],
 "metadata": {
  "interpreter": {
   "hash": "916dbcbb3f70747c44a77c7bcd40155683ae19c65e1c03b4aa3499c5328201f1"
  },
  "kernelspec": {
   "display_name": "Python 3.8.10 64-bit",
   "name": "python3"
  },
  "language_info": {
   "codemirror_mode": {
    "name": "ipython",
    "version": 3
   },
   "file_extension": ".py",
   "mimetype": "text/x-python",
   "name": "python",
   "nbconvert_exporter": "python",
   "pygments_lexer": "ipython3",
   "version": "3.8.10"
  }
 },
 "nbformat": 4,
 "nbformat_minor": 2
}
